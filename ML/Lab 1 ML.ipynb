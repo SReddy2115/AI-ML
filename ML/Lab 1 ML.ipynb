{
 "cells": [
  {
   "cell_type": "code",
   "execution_count": 45,
   "id": "9a6c70da",
   "metadata": {},
   "outputs": [
    {
     "name": "stdout",
     "output_type": "stream",
     "text": [
      "number of rows in test.csv = 419\n",
      "number of rows in train.csv = 892\n"
     ]
    }
   ],
   "source": [
    "#A) number of rows in training and test sets\n",
    "\n",
    "import pandas as pd\n",
    "import seaborn as sns\n",
    "import matplotlib.pyplot as plt\n",
    "file1 = open(\"test.csv\")\n",
    "file2= open(\"train.csv\")\n",
    "file3=open(\"gender_submission.csv\")\n",
    "numline1 = len(file1.readlines())\n",
    "numline2 = len(file2.readlines())\n",
    "print (\"number of rows in test.csv =\",numline1)\n",
    "print (\"number of rows in train.csv =\",numline2)"
   ]
  },
  {
   "cell_type": "code",
   "execution_count": 46,
   "id": "a5d735d7",
   "metadata": {},
   "outputs": [
    {
     "name": "stdout",
     "output_type": "stream",
     "text": [
      "Data set and Data Type of test.csv\n",
      "  \n",
      "PassengerId      int64\n",
      "Pclass           int64\n",
      "Name            object\n",
      "Sex             object\n",
      "Age            float64\n",
      "SibSp            int64\n",
      "Parch            int64\n",
      "Ticket          object\n",
      "Fare           float64\n",
      "Cabin           object\n",
      "Embarked        object\n",
      "dtype: object\n",
      "----------------------------------\n",
      "Data set and Data Type of train.csv\n",
      "  \n",
      "PassengerId      int64\n",
      "Survived         int64\n",
      "Pclass           int64\n",
      "Name            object\n",
      "Sex             object\n",
      "Age            float64\n",
      "SibSp            int64\n",
      "Parch            int64\n",
      "Ticket          object\n",
      "Fare           float64\n",
      "Cabin           object\n",
      "Embarked        object\n",
      "dtype: object\n",
      "----------------------------------\n",
      "Data set and Data Type of gender_submission.csv\n",
      "  \n",
      "PassengerId    int64\n",
      "Survived       int64\n",
      "dtype: object\n"
     ]
    }
   ],
   "source": [
    "#B) display the structure of the dataset along with the datatypes of the fields\n",
    "import pandas as pd\n",
    "df = pd.read_csv('test.csv')\n",
    "df1 = pd.read_csv('train.csv')\n",
    "df2 = pd.read_csv('gender_submission.csv')\n",
    "print(\"Data set and Data Type of test.csv\")\n",
    "print(\"  \")\n",
    "print(df.dtypes)\n",
    "print(\"----------------------------------\")\n",
    "print(\"Data set and Data Type of train.csv\")\n",
    "print(\"  \")\n",
    "print(df1.dtypes)\n",
    "print(\"----------------------------------\")\n",
    "print(\"Data set and Data Type of gender_submission.csv\")\n",
    "print(\"  \")\n",
    "print(df2.dtypes)\n"
   ]
  },
  {
   "cell_type": "markdown",
   "id": "c2a2a46a",
   "metadata": {},
   "source": [
    "# Data Cleaning:"
   ]
  },
  {
   "cell_type": "code",
   "execution_count": 47,
   "id": "ed12f915",
   "metadata": {},
   "outputs": [
    {
     "name": "stdout",
     "output_type": "stream",
     "text": [
      "Original 'train.csv' CSV Data: \n",
      "\n",
      "\n",
      "CSV Data after deleting the columns:\n",
      "\n",
      "     PassengerId  Pclass     Sex   Age  SibSp  Parch     Fare Cabin Embarked\n",
      "0              1       3    male  22.0      1      0   7.2500   NaN        S\n",
      "1              2       1  female  38.0      1      0  71.2833   C85        C\n",
      "2              3       3  female  26.0      0      0   7.9250   NaN        S\n",
      "3              4       1  female  35.0      1      0  53.1000  C123        S\n",
      "4              5       3    male  35.0      0      0   8.0500   NaN        S\n",
      "..           ...     ...     ...   ...    ...    ...      ...   ...      ...\n",
      "886          887       2    male  27.0      0      0  13.0000   NaN        S\n",
      "887          888       1  female  19.0      0      0  30.0000   B42        S\n",
      "888          889       3  female   NaN      1      2  23.4500   NaN        S\n",
      "889          890       1    male  26.0      0      0  30.0000  C148        C\n",
      "890          891       3    male  32.0      0      0   7.7500   NaN        Q\n",
      "\n",
      "[891 rows x 9 columns]\n"
     ]
    }
   ],
   "source": [
    "#1. Analyse the data and identify which columns are not relevant for survivor prediction task. Drop those \n",
    "#columns from the dataframes. \n",
    "\n",
    "file2 = pd.read_csv('train.csv')\n",
    "print(\"Original 'train.csv' CSV Data: \\n\")\n",
    "file2.drop(['Name','Ticket','Survived',],inplace=True, axis=1)\n",
    "\n",
    "print(\"\\nCSV Data after deleting the columns:\\n\")\n",
    "print(file2)\n",
    "\n",
    "\n",
    "\n"
   ]
  },
  {
   "cell_type": "code",
   "execution_count": 48,
   "id": "4c513e7f",
   "metadata": {},
   "outputs": [
    {
     "name": "stdout",
     "output_type": "stream",
     "text": [
      "PassengerId      0\n",
      "Pclass           0\n",
      "Name             0\n",
      "Sex              0\n",
      "Age             86\n",
      "SibSp            0\n",
      "Parch            0\n",
      "Ticket           0\n",
      "Fare             1\n",
      "Cabin          327\n",
      "Embarked         0\n",
      "dtype: int64\n",
      "--------------------------------\n",
      "PassengerId      0\n",
      "Survived         0\n",
      "Pclass           0\n",
      "Name             0\n",
      "Sex              0\n",
      "Age            177\n",
      "SibSp            0\n",
      "Parch            0\n",
      "Ticket           0\n",
      "Fare             0\n",
      "Cabin          687\n",
      "Embarked         2\n",
      "dtype: int64\n",
      "--------------------------------\n",
      "PassengerId    0\n",
      "Survived       0\n",
      "dtype: int64\n"
     ]
    }
   ],
   "source": [
    "#2. Check how many columns have missing values in them (NA) and how many have NaN values. Logically \n",
    "#impute the dataset.\n",
    "\n",
    "print(df.isnull().sum())\n",
    "print(\"--------------------------------\")\n",
    "print(df1.isnull().sum())\n",
    "print(\"--------------------------------\")\n",
    "print(df2.isnull().sum())"
   ]
  },
  {
   "cell_type": "code",
   "execution_count": 49,
   "id": "c7df74db",
   "metadata": {},
   "outputs": [
    {
     "data": {
      "text/plain": [
       "PassengerId      int64\n",
       "Survived         int64\n",
       "Pclass           int64\n",
       "Name            object\n",
       "Sex              int64\n",
       "Age            float64\n",
       "SibSp            int64\n",
       "Parch            int64\n",
       "Ticket          object\n",
       "Fare           float64\n",
       "Cabin           object\n",
       "Embarked        object\n",
       "dtype: object"
      ]
     },
     "execution_count": 49,
     "metadata": {},
     "output_type": "execute_result"
    }
   ],
   "source": [
    "#3. Identify any categorical valued columns (non-numeric) and convert them to numeric.\n",
    "numeric= {\"Sex\": {\"female\": 1, \"male\": 2}}\n",
    "df1.replace(numeric).dtypes"
   ]
  },
  {
   "cell_type": "markdown",
   "id": "b2aa48f8",
   "metadata": {},
   "source": [
    "# Exploratory Analysis (On training set):"
   ]
  },
  {
   "cell_type": "code",
   "execution_count": 80,
   "id": "0b16717e",
   "metadata": {},
   "outputs": [
    {
     "data": {
      "image/png": "[encoded data removed]",
      "text/plain": [
       "<Figure size 432x288 with 1 Axes>"
      ]
     },
     "metadata": {
      "needs_background": "light"
     },
     "output_type": "display_data"
    }
   ],
   "source": [
    "#1. Show how many passengers were male and female and plot using matplotlib. On the same plot depict \n",
    "#the people who survived and who died. Make accurate axis and legend. Save the plot in a png file.\n",
    "count=df1['Sex'].value_counts()[0]\n",
    "count1=df1[['Sex','Survived']].value_counts()\n",
    "count1.plot(kind='bar',color=['yellow','blue'])\n",
    "plt.title(\"plot of male and female passenger and survived passenger\")\n",
    "plt.xlabel(['Survived','Sex'])\n",
    "plt.ylabel('Count')\n",
    "plt.savefig('graph1 plot of male and female passenger and survived passenger.png')\n",
    "plt.show()"
   ]
  },
  {
   "cell_type": "code",
   "execution_count": 54,
   "id": "120f00f8",
   "metadata": {},
   "outputs": [
    {
     "data": {
      "image/png": "[encoded data removed]",
      "text/plain": [
       "<Figure size 432x288 with 1 Axes>"
      ]
     },
     "metadata": {
      "needs_background": "light"
     },
     "output_type": "display_data"
    }
   ],
   "source": [
    "\"\"\"\" #2. Show the histogram of the count of passengers who died (according to their age). Age ranges should \n",
    "#be <10, 10 to <20, 20 to <30 and so on. \n",
    "#How many minor children died and how many of them survived (<16 years). Create a separate plot for \n",
    "the passengers who survived.\"\"\"\n",
    "\n",
    "df1.query('Survived ==0 and Age<=16').count()\n",
    "survived=df1.query('Survived==0')\n",
    "age=survived['Age']\n",
    "plt.hist(age,bins=[10,20,30,40,50,60,70,80,90])\n",
    "plt.title(\"How many of them survived\")\n",
    "plt.xlabel('Age')\n",
    "plt.ylabel('Count')\n",
    "plt.show()"
   ]
  },
  {
   "cell_type": "code",
   "execution_count": 55,
   "id": "8c1a10cc",
   "metadata": {},
   "outputs": [
    {
     "data": {
      "image/png": "[encoded data removed]",
      "text/plain": [
       "<Figure size 432x288 with 1 Axes>"
      ]
     },
     "metadata": {
      "needs_background": "light"
     },
     "output_type": "display_data"
    }
   ],
   "source": [
    "#.3Show the distribution on the count of passengers who died (according to the fare they paid). Choose \n",
    "#fare ranges such that the mean lies in the middle range. \n",
    "#Give the percentage of passengers who survived as had paid more than $100. Justify if there was any \n",
    "#bias in the rescue operation towards the rich (Yes/No/not enough evidence). \n",
    "paid=df1.query('Survived!=1')\n",
    "paid\n",
    "plt.hist(paid['Fare'],bins=[5,10,50,100,150,200,250,300],color='orange')\n",
    "plt.title(\"the distribution on the count of passengers who died\")\n",
    "plt.xlabel('Fare')\n",
    "plt.ylabel('Fare')\n",
    "plt.show()\n"
   ]
  },
  {
   "cell_type": "code",
   "execution_count": 57,
   "id": "21be9e1b",
   "metadata": {},
   "outputs": [
    {
     "data": {
      "image/png": "[encoded data removed]",
      "text/plain": [
       "<Figure size 432x288 with 1 Axes>"
      ]
     },
     "metadata": {
      "needs_background": "light"
     },
     "output_type": "display_data"
    }
   ],
   "source": [
    "paid=df1.query('Survived==1 and Fare>=100')\n",
    "df1\n",
    "plt.hist(paid['Fare'],bins=[5,10,50,100,150,200,250,300],color='#C02323')\n",
    "plt.title(\"Rescue operation towards the rich (Yes/No/not enough evidence).\")\n",
    "plt.xlabel('Fare')\n",
    "plt.ylabel('bins')\n",
    "plt.show()\n",
    "\n"
   ]
  },
  {
   "cell_type": "code",
   "execution_count": 59,
   "id": "1685b9d3",
   "metadata": {},
   "outputs": [
    {
     "name": "stdout",
     "output_type": "stream",
     "text": [
      "Number of Passenger who survived and have fare>=100 =  39\n",
      " Number of Passenger Id who have paid fare>=100 =  53\n",
      "Percentage of passenger survived =  73.58490566037736 %\n"
     ]
    }
   ],
   "source": [
    "F100=df1.query('Fare>=100')\n",
    "PID=F100['PassengerId'].count()\n",
    "PS=paid['PassengerId'].count()\n",
    "percentage=(PS/PID)*100\n",
    "print(\"Number of Passenger who survived and have fare>=100 = \", PS)\n",
    "print(\" Number of Passenger Id who have paid fare>=100 = \",PID)\n",
    "print(\"Percentage of passenger survived = \",percentage,\"%\")"
   ]
  },
  {
   "cell_type": "code",
   "execution_count": 71,
   "id": "9810bc65",
   "metadata": {},
   "outputs": [
    {
     "name": "stdout",
     "output_type": "stream",
     "text": [
      "             PassengerId  Survived    Pclass       Age     SibSp     Parch  \\\n",
      "PassengerId     1.000000 -0.005007 -0.035144  0.036847 -0.057527 -0.001652   \n",
      "Survived       -0.005007  1.000000 -0.338481 -0.077221 -0.035322  0.081629   \n",
      "Pclass         -0.035144 -0.338481  1.000000 -0.369226  0.083081  0.018443   \n",
      "Age             0.036847 -0.077221 -0.369226  1.000000 -0.308247 -0.189119   \n",
      "SibSp          -0.057527 -0.035322  0.083081 -0.308247  1.000000  0.414838   \n",
      "Parch          -0.001652  0.081629  0.018443 -0.189119  0.414838  1.000000   \n",
      "Fare            0.012658  0.257307 -0.549500  0.096067  0.159651  0.216225   \n",
      "\n",
      "                 Fare  \n",
      "PassengerId  0.012658  \n",
      "Survived     0.257307  \n",
      "Pclass      -0.549500  \n",
      "Age          0.096067  \n",
      "SibSp        0.159651  \n",
      "Parch        0.216225  \n",
      "Fare         1.000000  \n"
     ]
    },
    {
     "data": {
      "image/png": "[encoded data removed]",
      "text/plain": [
       "<Figure size 432x288 with 2 Axes>"
      ]
     },
     "metadata": {
      "needs_background": "light"
     },
     "output_type": "display_data"
    }
   ],
   "source": [
    "#4. Plot graphs showing correlation between different pairs of attributes. Infer if there is any significant \n",
    "#correlation between survivors and any specific feature\n",
    "\n",
    "correlation=df1.corr()\n",
    "print(correlation)\n",
    "sns.heatmap(correlation,linewidth = 1 , cmap = 'Reds')\n",
    "plt.show()"
   ]
  },
  {
   "cell_type": "code",
   "execution_count": 79,
   "id": "fb9e7d56",
   "metadata": {},
   "outputs": [
    {
     "name": "stdout",
     "output_type": "stream",
     "text": [
      "520\n"
     ]
    }
   ],
   "source": [
    "#Find number of Passengers who are Married.\n",
    "count=df1['Name'].tolist()\n",
    "l=0\n",
    "for i in range(len(count)):\n",
    "    for j in range(i,len(count[i])):\n",
    "        if('Mrs.','Mr' in count[j] ):\n",
    "            l=l+1\n",
    "print(c)"
   ]
  },
  {
   "cell_type": "code",
   "execution_count": null,
   "id": "51814772",
   "metadata": {},
   "outputs": [],
   "source": []
  }
 ],
 "metadata": {
  "kernelspec": {
   "display_name": "Python 3 (ipykernel)",
   "language": "python",
   "name": "python3"
  },
  "language_info": {
   "codemirror_mode": {
    "name": "ipython",
    "version": 3
   },
   "file_extension": ".py",
   "mimetype": "text/x-python",
   "name": "python",
   "nbconvert_exporter": "python",
   "pygments_lexer": "ipython3",
   "version": "3.9.12"
  }
 },
 "nbformat": 4,
 "nbformat_minor": 5
}
